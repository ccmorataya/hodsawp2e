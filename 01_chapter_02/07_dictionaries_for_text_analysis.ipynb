{
 "cells": [
  {
   "cell_type": "code",
   "execution_count": 3,
   "metadata": {},
   "outputs": [],
   "source": [
    "def wordcount(fname):\n",
    "    try:\n",
    "        fhand = open(fname)\n",
    "    except:\n",
    "        print(\"File can not be opened\")\n",
    "        exit()\n",
    "    \n",
    "    count = dict()\n",
    "    for line in fhand:\n",
    "        words = line.split()\n",
    "        for word in words:\n",
    "            if word not in count:\n",
    "                count[word] = 1\n",
    "            else:\n",
    "                count[word] += 1\n",
    "    return (count)"
   ]
  },
  {
   "cell_type": "code",
   "execution_count": 7,
   "metadata": {},
   "outputs": [],
   "source": [
    "count = wordcount('00_01_textfile.txt')"
   ]
  },
  {
   "cell_type": "code",
   "execution_count": 8,
   "metadata": {},
   "outputs": [],
   "source": [
    "filtered = {key: value for key, value in count.items() if value <20 and value >16}"
   ]
  },
  {
   "cell_type": "code",
   "execution_count": 9,
   "metadata": {},
   "outputs": [
    {
     "data": {
      "text/plain": [
       "{'The': 19,\n",
       " 'says': 18,\n",
       " '1024,': 18,\n",
       " 'iPhone</a>\"},': 19,\n",
       " '2010\",': 18,\n",
       " '400,': 17,\n",
       " 'me': 18,\n",
       " 'are': 17,\n",
       " '\"Donald': 19,\n",
       " '-18000,': 17,\n",
       " 'my': 19,\n",
       " '3,': 17,\n",
       " 'vote': 19,\n",
       " '\"Trump\",': 17}"
      ]
     },
     "execution_count": 9,
     "metadata": {},
     "output_type": "execute_result"
    }
   ],
   "source": [
    "filtered"
   ]
  }
 ],
 "metadata": {
  "kernelspec": {
   "display_name": "Python 3",
   "language": "python",
   "name": "python3"
  },
  "language_info": {
   "codemirror_mode": {
    "name": "ipython",
    "version": 3
   },
   "file_extension": ".py",
   "mimetype": "text/x-python",
   "name": "python",
   "nbconvert_exporter": "python",
   "pygments_lexer": "ipython3",
   "version": "3.7.6"
  }
 },
 "nbformat": 4,
 "nbformat_minor": 4
}
