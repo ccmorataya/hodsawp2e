{
 "cells": [
  {
   "cell_type": "code",
   "execution_count": 1,
   "metadata": {},
   "outputs": [
    {
     "name": "stdout",
     "output_type": "stream",
     "text": [
      "Time to sum an iterator: 0.336818\n",
      "Time to build and sum a list: 0.441937\n"
     ]
    }
   ],
   "source": [
    "# compares the running time of a list compared to a generator\n",
    "import time\n",
    "# generator function creates an iterator of odd numbers betweeen n and m\n",
    "def oddGen(n, m):\n",
    "    while n < m:\n",
    "        yield n\n",
    "        n += 2\n",
    "        \n",
    "# builds a list of odd numbers between n and m\n",
    "def oddLst(n, m):\n",
    "    lst = []\n",
    "    while n < m :\n",
    "        lst.append(n)\n",
    "        n += 2\n",
    "    return lst\n",
    "\n",
    "# the time it takes to perform sum on an iterator\n",
    "t1 = time.time()\n",
    "sum(oddGen(1, 1000000))\n",
    "print(\"Time to sum an iterator: %f\" % (time.time() - t1))\n",
    "\n",
    "# the time it takes to build and sum a list\n",
    "t1 = time.time()\n",
    "sum(oddLst(1, 1000000))\n",
    "print(\"Time to build and sum a list: %f\" % (time.time() - t1))"
   ]
  },
  {
   "cell_type": "code",
   "execution_count": 2,
   "metadata": {},
   "outputs": [
    {
     "name": "stdout",
     "output_type": "stream",
     "text": [
      "1\n",
      "3\n",
      "5\n",
      "7\n",
      "9\n"
     ]
    }
   ],
   "source": [
    "for i in oddLst(1,10): print(i)"
   ]
  },
  {
   "cell_type": "code",
   "execution_count": 3,
   "metadata": {},
   "outputs": [],
   "source": [
    "lst1 = [1, 2, 3, 4]"
   ]
  },
  {
   "cell_type": "code",
   "execution_count": 4,
   "metadata": {},
   "outputs": [],
   "source": [
    "gen1 = (10**i for i in lst1)"
   ]
  },
  {
   "cell_type": "code",
   "execution_count": 5,
   "metadata": {},
   "outputs": [
    {
     "data": {
      "text/plain": [
       "<generator object <genexpr> at 0x7fa96ea8d0>"
      ]
     },
     "execution_count": 5,
     "metadata": {},
     "output_type": "execute_result"
    }
   ],
   "source": [
    "gen1"
   ]
  },
  {
   "cell_type": "code",
   "execution_count": 6,
   "metadata": {},
   "outputs": [
    {
     "name": "stdout",
     "output_type": "stream",
     "text": [
      "10\n",
      "100\n",
      "1000\n",
      "10000\n"
     ]
    }
   ],
   "source": [
    "for x in gen1: print(x)"
   ]
  },
  {
   "cell_type": "markdown",
   "metadata": {},
   "source": [
    "---"
   ]
  },
  {
   "cell_type": "code",
   "execution_count": 28,
   "metadata": {},
   "outputs": [],
   "source": [
    "class Employee(object):\n",
    "    numEmployee = 0\n",
    "    def __init__(self, name, rate):\n",
    "        self.owed = 0\n",
    "        self.name = name\n",
    "        self.rate = rate\n",
    "        Employee.numEmployee += 1\n",
    "    \n",
    "    def __del__(self):\n",
    "        Employee.numEmployee -= 1\n",
    "    \n",
    "    def hours(self, numHours):\n",
    "        self.owed += numHours*self.rate\n",
    "        return (\"%.2f hours worked\" % numHours)\n",
    "    \n",
    "    def pay(self):\n",
    "        self.owed = 0\n",
    "        return (\"payed %s \" % self.name)"
   ]
  },
  {
   "cell_type": "code",
   "execution_count": 12,
   "metadata": {},
   "outputs": [],
   "source": [
    "emp1 = Employee(\"Jill\", 18.50)"
   ]
  },
  {
   "cell_type": "code",
   "execution_count": 13,
   "metadata": {},
   "outputs": [],
   "source": [
    "emp2 = Employee(\"Jack\", 15.50)"
   ]
  },
  {
   "cell_type": "code",
   "execution_count": 14,
   "metadata": {},
   "outputs": [
    {
     "data": {
      "text/plain": [
       "2"
      ]
     },
     "execution_count": 14,
     "metadata": {},
     "output_type": "execute_result"
    }
   ],
   "source": [
    "Employee.numEmployee"
   ]
  },
  {
   "cell_type": "code",
   "execution_count": 15,
   "metadata": {},
   "outputs": [
    {
     "data": {
      "text/plain": [
       "'20.00 hours worked'"
      ]
     },
     "execution_count": 15,
     "metadata": {},
     "output_type": "execute_result"
    }
   ],
   "source": [
    "emp1.hours(20)"
   ]
  },
  {
   "cell_type": "code",
   "execution_count": 16,
   "metadata": {},
   "outputs": [
    {
     "data": {
      "text/plain": [
       "370.0"
      ]
     },
     "execution_count": 16,
     "metadata": {},
     "output_type": "execute_result"
    }
   ],
   "source": [
    "emp1.owed"
   ]
  },
  {
   "cell_type": "code",
   "execution_count": 17,
   "metadata": {},
   "outputs": [
    {
     "data": {
      "text/plain": [
       "'payed Jill '"
      ]
     },
     "execution_count": 17,
     "metadata": {},
     "output_type": "execute_result"
    }
   ],
   "source": [
    "emp1.pay()"
   ]
  },
  {
   "cell_type": "markdown",
   "metadata": {},
   "source": [
    "---"
   ]
  },
  {
   "cell_type": "code",
   "execution_count": 18,
   "metadata": {},
   "outputs": [],
   "source": [
    "class my_class():\n",
    "    def __init__(self, greet):\n",
    "        self.greet = greet\n",
    "    def __repr__(self):\n",
    "        return \"a custom object (%r) \" % (self.greet)"
   ]
  },
  {
   "cell_type": "code",
   "execution_count": 19,
   "metadata": {},
   "outputs": [],
   "source": [
    "a = my_class('giday')"
   ]
  },
  {
   "cell_type": "code",
   "execution_count": 20,
   "metadata": {},
   "outputs": [
    {
     "data": {
      "text/plain": [
       "a custom object ('giday') "
      ]
     },
     "execution_count": 20,
     "metadata": {},
     "output_type": "execute_result"
    }
   ],
   "source": [
    "a"
   ]
  },
  {
   "cell_type": "code",
   "execution_count": 21,
   "metadata": {},
   "outputs": [],
   "source": [
    "class specialEmployee(Employee):\n",
    "    def hours(self, numHours):\n",
    "        self.owed += numHours*self.rate*2\n",
    "        return(\"%.2f hours worked\" % numHours)"
   ]
  },
  {
   "cell_type": "code",
   "execution_count": 29,
   "metadata": {},
   "outputs": [],
   "source": [
    "class specialEmployee(Employee):\n",
    "    def __init__(self, name, rate, bonus):\n",
    "        Employee.__init__(self, name, rate)\n",
    "        self.bonus = bonus\n",
    "    \n",
    "    def hours(self, numHours):\n",
    "        self.owed += numHours*self.rate+self.bonus\n",
    "        return(\"%.2f hours worked\" % numHours)"
   ]
  },
  {
   "cell_type": "code",
   "execution_count": 23,
   "metadata": {},
   "outputs": [
    {
     "name": "stdout",
     "output_type": "stream",
     "text": [
      "True\n"
     ]
    }
   ],
   "source": [
    "# Example issubclass() to check wether a class is a subclass of another class\n",
    "print(issubclass(specialEmployee, Employee))"
   ]
  },
  {
   "cell_type": "code",
   "execution_count": 24,
   "metadata": {},
   "outputs": [
    {
     "name": "stdout",
     "output_type": "stream",
     "text": [
      "False\n"
     ]
    }
   ],
   "source": [
    "# Examples isinstance() to check if an object belongs to a class or not\n",
    "print(isinstance(Employee, specialEmployee))"
   ]
  },
  {
   "cell_type": "code",
   "execution_count": 30,
   "metadata": {},
   "outputs": [],
   "source": [
    "d = specialEmployee(\"packt\", 20, 100)\n",
    "b = Employee(\"packt\", 20)"
   ]
  },
  {
   "cell_type": "code",
   "execution_count": 31,
   "metadata": {},
   "outputs": [
    {
     "name": "stdout",
     "output_type": "stream",
     "text": [
      "False\n"
     ]
    }
   ],
   "source": [
    "print(isinstance(b, specialEmployee))"
   ]
  },
  {
   "cell_type": "code",
   "execution_count": 32,
   "metadata": {},
   "outputs": [
    {
     "name": "stdout",
     "output_type": "stream",
     "text": [
      "True\n"
     ]
    }
   ],
   "source": [
    "print(isinstance(b, Employee))"
   ]
  },
  {
   "cell_type": "code",
   "execution_count": 33,
   "metadata": {},
   "outputs": [],
   "source": [
    "class exponentialA(object):\n",
    "    base = 3\n",
    "    @classmethod\n",
    "    def exp(cls, x):\n",
    "        return(cls.base**x)\n",
    "    \n",
    "    @staticmethod\n",
    "    def addition(x, y):\n",
    "        return (x + y)\n",
    "\n",
    "class exponentialB(exponentialA):\n",
    "    base = 4\n",
    "\n",
    "a = exponentialA()\n",
    "b = a.exp(3)"
   ]
  },
  {
   "cell_type": "code",
   "execution_count": 34,
   "metadata": {},
   "outputs": [
    {
     "name": "stdout",
     "output_type": "stream",
     "text": [
      "the value: 3 to the power 3 is 27\n",
      "the sum is:  25\n",
      "64\n"
     ]
    }
   ],
   "source": [
    "print(\"the value: 3 to the power 3 is\", b)\n",
    "print(\"the sum is: \", exponentialA.addition(15, 10))\n",
    "print(exponentialB.exp(3))"
   ]
  }
 ],
 "metadata": {
  "kernelspec": {
   "display_name": "Python 3",
   "language": "python",
   "name": "python3"
  },
  "language_info": {
   "codemirror_mode": {
    "name": "ipython",
    "version": 3
   },
   "file_extension": ".py",
   "mimetype": "text/x-python",
   "name": "python",
   "nbconvert_exporter": "python",
   "pygments_lexer": "ipython3",
   "version": "3.7.6"
  }
 },
 "nbformat": 4,
 "nbformat_minor": 4
}
